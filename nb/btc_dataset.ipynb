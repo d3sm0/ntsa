{
 "cells": [
  {
   "cell_type": "markdown",
   "metadata": {},
   "source": [
    "The dataset cointains the closing price, of 7 crypto exchange rate namely (btc, USD), (eth, btc), (ltc, btc), (xmr, btc), (xlm, btc), (neos, btc) and (dash, btc). Data are collected with a frequency of 30 minutes, starting from the 08-08-2015, to 31-07-2018. For the regression task, the target variable is the (btc, USD) exchange rate, given the other exchange rates.\n",
    "The overall dataset is of size N x D = (52235, 7), split in training and test set with a constant proportion of 0.8."
   ]
  },
  {
   "cell_type": "code",
   "execution_count": 18,
   "metadata": {},
   "outputs": [],
   "source": [
    "import pandas as pd"
   ]
  },
  {
   "cell_type": "code",
   "execution_count": 19,
   "metadata": {},
   "outputs": [],
   "source": [
    "df = pd.read_csv('../data/benchmark/btc_30m_close.csv', index_col=0)"
   ]
  },
  {
   "cell_type": "code",
   "execution_count": 20,
   "metadata": {},
   "outputs": [
    {
     "data": {
      "text/plain": [
       "(52235, 7)"
      ]
     },
     "execution_count": 20,
     "metadata": {},
     "output_type": "execute_result"
    }
   ],
   "source": [
    "df.shape"
   ]
  },
  {
   "cell_type": "code",
   "execution_count": 21,
   "metadata": {},
   "outputs": [
    {
     "data": {
      "text/html": [
       "<div>\n",
       "<style scoped>\n",
       "    .dataframe tbody tr th:only-of-type {\n",
       "        vertical-align: middle;\n",
       "    }\n",
       "\n",
       "    .dataframe tbody tr th {\n",
       "        vertical-align: top;\n",
       "    }\n",
       "\n",
       "    .dataframe thead th {\n",
       "        text-align: right;\n",
       "    }\n",
       "</style>\n",
       "<table border=\"1\" class=\"dataframe\">\n",
       "  <thead>\n",
       "    <tr style=\"text-align: right;\">\n",
       "      <th></th>\n",
       "      <th>btc_usdt</th>\n",
       "      <th>eth_btc</th>\n",
       "      <th>ltc_btc</th>\n",
       "      <th>xmr_btc</th>\n",
       "      <th>xlm_btc</th>\n",
       "      <th>neos_btc</th>\n",
       "      <th>dash_btc</th>\n",
       "    </tr>\n",
       "    <tr>\n",
       "      <th>timestamp</th>\n",
       "      <th></th>\n",
       "      <th></th>\n",
       "      <th></th>\n",
       "      <th></th>\n",
       "      <th></th>\n",
       "      <th></th>\n",
       "      <th></th>\n",
       "    </tr>\n",
       "  </thead>\n",
       "  <tbody>\n",
       "    <tr>\n",
       "      <th>2015-08-08 05:00:00</th>\n",
       "      <td>275.385841</td>\n",
       "      <td>0.005501</td>\n",
       "      <td>0.014981</td>\n",
       "      <td>0.002617</td>\n",
       "      <td>0.000009</td>\n",
       "      <td>0.000014</td>\n",
       "      <td>0.011675</td>\n",
       "    </tr>\n",
       "    <tr>\n",
       "      <th>2015-08-08 05:30:00</th>\n",
       "      <td>275.385841</td>\n",
       "      <td>0.006001</td>\n",
       "      <td>0.014967</td>\n",
       "      <td>0.002637</td>\n",
       "      <td>0.000009</td>\n",
       "      <td>0.000014</td>\n",
       "      <td>0.011670</td>\n",
       "    </tr>\n",
       "    <tr>\n",
       "      <th>2015-08-08 06:00:00</th>\n",
       "      <td>273.905543</td>\n",
       "      <td>0.005875</td>\n",
       "      <td>0.014824</td>\n",
       "      <td>0.002604</td>\n",
       "      <td>0.000009</td>\n",
       "      <td>0.000014</td>\n",
       "      <td>0.011791</td>\n",
       "    </tr>\n",
       "    <tr>\n",
       "      <th>2015-08-08 06:30:00</th>\n",
       "      <td>274.155050</td>\n",
       "      <td>0.006500</td>\n",
       "      <td>0.014951</td>\n",
       "      <td>0.002573</td>\n",
       "      <td>0.000008</td>\n",
       "      <td>0.000014</td>\n",
       "      <td>0.011700</td>\n",
       "    </tr>\n",
       "    <tr>\n",
       "      <th>2015-08-08 07:00:00</th>\n",
       "      <td>273.879113</td>\n",
       "      <td>0.006890</td>\n",
       "      <td>0.015046</td>\n",
       "      <td>0.002490</td>\n",
       "      <td>0.000008</td>\n",
       "      <td>0.000014</td>\n",
       "      <td>0.011700</td>\n",
       "    </tr>\n",
       "  </tbody>\n",
       "</table>\n",
       "</div>"
      ],
      "text/plain": [
       "                       btc_usdt   eth_btc   ltc_btc   xmr_btc   xlm_btc  \\\n",
       "timestamp                                                                 \n",
       "2015-08-08 05:00:00  275.385841  0.005501  0.014981  0.002617  0.000009   \n",
       "2015-08-08 05:30:00  275.385841  0.006001  0.014967  0.002637  0.000009   \n",
       "2015-08-08 06:00:00  273.905543  0.005875  0.014824  0.002604  0.000009   \n",
       "2015-08-08 06:30:00  274.155050  0.006500  0.014951  0.002573  0.000008   \n",
       "2015-08-08 07:00:00  273.879113  0.006890  0.015046  0.002490  0.000008   \n",
       "\n",
       "                     neos_btc  dash_btc  \n",
       "timestamp                                \n",
       "2015-08-08 05:00:00  0.000014  0.011675  \n",
       "2015-08-08 05:30:00  0.000014  0.011670  \n",
       "2015-08-08 06:00:00  0.000014  0.011791  \n",
       "2015-08-08 06:30:00  0.000014  0.011700  \n",
       "2015-08-08 07:00:00  0.000014  0.011700  "
      ]
     },
     "execution_count": 21,
     "metadata": {},
     "output_type": "execute_result"
    }
   ],
   "source": [
    "df.head()"
   ]
  },
  {
   "cell_type": "code",
   "execution_count": 22,
   "metadata": {},
   "outputs": [
    {
     "data": {
      "text/html": [
       "<div>\n",
       "<style scoped>\n",
       "    .dataframe tbody tr th:only-of-type {\n",
       "        vertical-align: middle;\n",
       "    }\n",
       "\n",
       "    .dataframe tbody tr th {\n",
       "        vertical-align: top;\n",
       "    }\n",
       "\n",
       "    .dataframe thead th {\n",
       "        text-align: right;\n",
       "    }\n",
       "</style>\n",
       "<table border=\"1\" class=\"dataframe\">\n",
       "  <thead>\n",
       "    <tr style=\"text-align: right;\">\n",
       "      <th></th>\n",
       "      <th>btc_usdt</th>\n",
       "      <th>eth_btc</th>\n",
       "      <th>ltc_btc</th>\n",
       "      <th>xmr_btc</th>\n",
       "      <th>xlm_btc</th>\n",
       "      <th>neos_btc</th>\n",
       "      <th>dash_btc</th>\n",
       "    </tr>\n",
       "    <tr>\n",
       "      <th>timestamp</th>\n",
       "      <th></th>\n",
       "      <th></th>\n",
       "      <th></th>\n",
       "      <th></th>\n",
       "      <th></th>\n",
       "      <th></th>\n",
       "      <th></th>\n",
       "    </tr>\n",
       "  </thead>\n",
       "  <tbody>\n",
       "    <tr>\n",
       "      <th>2018-07-31 08:00:00</th>\n",
       "      <td>8105.352864</td>\n",
       "      <td>0.055305</td>\n",
       "      <td>0.009955</td>\n",
       "      <td>0.016004</td>\n",
       "      <td>0.000034</td>\n",
       "      <td>0.000122</td>\n",
       "      <td>0.028443</td>\n",
       "    </tr>\n",
       "    <tr>\n",
       "      <th>2018-07-31 08:30:00</th>\n",
       "      <td>8027.636279</td>\n",
       "      <td>0.055454</td>\n",
       "      <td>0.009980</td>\n",
       "      <td>0.016060</td>\n",
       "      <td>0.000034</td>\n",
       "      <td>0.000122</td>\n",
       "      <td>0.028630</td>\n",
       "    </tr>\n",
       "    <tr>\n",
       "      <th>2018-07-31 09:00:00</th>\n",
       "      <td>8025.000000</td>\n",
       "      <td>0.055610</td>\n",
       "      <td>0.009995</td>\n",
       "      <td>0.016095</td>\n",
       "      <td>0.000034</td>\n",
       "      <td>0.000122</td>\n",
       "      <td>0.028492</td>\n",
       "    </tr>\n",
       "    <tr>\n",
       "      <th>2018-07-31 09:30:00</th>\n",
       "      <td>8014.223828</td>\n",
       "      <td>0.055485</td>\n",
       "      <td>0.010005</td>\n",
       "      <td>0.016115</td>\n",
       "      <td>0.000034</td>\n",
       "      <td>0.000118</td>\n",
       "      <td>0.028310</td>\n",
       "    </tr>\n",
       "    <tr>\n",
       "      <th>2018-07-31 10:00:00</th>\n",
       "      <td>8014.223828</td>\n",
       "      <td>0.055441</td>\n",
       "      <td>0.010010</td>\n",
       "      <td>0.016090</td>\n",
       "      <td>0.000034</td>\n",
       "      <td>0.000118</td>\n",
       "      <td>0.028286</td>\n",
       "    </tr>\n",
       "  </tbody>\n",
       "</table>\n",
       "</div>"
      ],
      "text/plain": [
       "                        btc_usdt   eth_btc   ltc_btc   xmr_btc   xlm_btc  \\\n",
       "timestamp                                                                  \n",
       "2018-07-31 08:00:00  8105.352864  0.055305  0.009955  0.016004  0.000034   \n",
       "2018-07-31 08:30:00  8027.636279  0.055454  0.009980  0.016060  0.000034   \n",
       "2018-07-31 09:00:00  8025.000000  0.055610  0.009995  0.016095  0.000034   \n",
       "2018-07-31 09:30:00  8014.223828  0.055485  0.010005  0.016115  0.000034   \n",
       "2018-07-31 10:00:00  8014.223828  0.055441  0.010010  0.016090  0.000034   \n",
       "\n",
       "                     neos_btc  dash_btc  \n",
       "timestamp                                \n",
       "2018-07-31 08:00:00  0.000122  0.028443  \n",
       "2018-07-31 08:30:00  0.000122  0.028630  \n",
       "2018-07-31 09:00:00  0.000122  0.028492  \n",
       "2018-07-31 09:30:00  0.000118  0.028310  \n",
       "2018-07-31 10:00:00  0.000118  0.028286  "
      ]
     },
     "execution_count": 22,
     "metadata": {},
     "output_type": "execute_result"
    }
   ],
   "source": [
    "df.tail()"
   ]
  }
 ],
 "metadata": {
  "kernelspec": {
   "display_name": "Python 3",
   "language": "python",
   "name": "python3"
  },
  "language_info": {
   "codemirror_mode": {
    "name": "ipython",
    "version": 3
   },
   "file_extension": ".py",
   "mimetype": "text/x-python",
   "name": "python",
   "nbconvert_exporter": "python",
   "pygments_lexer": "ipython3",
   "version": "3.6.4"
  }
 },
 "nbformat": 4,
 "nbformat_minor": 2
}
