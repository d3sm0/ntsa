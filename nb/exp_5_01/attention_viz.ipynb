{
 "cells": [
  {
   "cell_type": "code",
   "execution_count": 1,
   "metadata": {},
   "outputs": [
    {
     "name": "stderr",
     "output_type": "stream",
     "text": [
      "/Users/d3sm0/.virtualenvs/ntsa/lib/python3.6/importlib/_bootstrap.py:219: RuntimeWarning: compiletime version 3.5 of module 'tensorflow.python.framework.fast_tensor_util' does not match runtime version 3.6\n",
      "  return f(*args, **kwds)\n"
     ]
    }
   ],
   "source": [
    "import matplotlib.pyplot as plt\n",
    "import pandas as pd\n",
    "import tensorflow as tf\n",
    "import sys\n",
    "from types import SimpleNamespace\n",
    "\n",
    "sys.path.insert(0,'..')\n",
    "%matplotlib inline"
   ]
  },
  {
   "cell_type": "code",
   "execution_count": 2,
   "metadata": {},
   "outputs": [],
   "source": [
    "from ntsa.utils.data_utils import load_data\n",
    "from ntsa.dataset import build_train_test_datasets"
   ]
  },
  {
   "cell_type": "code",
   "execution_count": 3,
   "metadata": {},
   "outputs": [],
   "source": [
    "from ntsa.utils.misc import get_config\n",
    "from ntsa.models.model import DARNN\n",
    "from ntsa.train import Trainer\n",
    "from ntsa.models.blocks import InputAttention\n",
    "from ntsa.utils import Logger"
   ]
  },
  {
   "cell_type": "code",
   "execution_count": 4,
   "metadata": {},
   "outputs": [],
   "source": [
    "data = load_data('../data/benchmark/sm1_2010.csv')"
   ]
  },
  {
   "cell_type": "code",
   "execution_count": 5,
   "metadata": {},
   "outputs": [],
   "source": [
    "features = data.columns.tolist()[1:]"
   ]
  },
  {
   "cell_type": "code",
   "execution_count": 6,
   "metadata": {},
   "outputs": [
    {
     "data": {
      "text/html": [
       "<div>\n",
       "<style scoped>\n",
       "    .dataframe tbody tr th:only-of-type {\n",
       "        vertical-align: middle;\n",
       "    }\n",
       "\n",
       "    .dataframe tbody tr th {\n",
       "        vertical-align: top;\n",
       "    }\n",
       "\n",
       "    .dataframe thead th {\n",
       "        text-align: right;\n",
       "    }\n",
       "</style>\n",
       "<table border=\"1\" class=\"dataframe\">\n",
       "  <thead>\n",
       "    <tr style=\"text-align: right;\">\n",
       "      <th></th>\n",
       "      <th>temperature_comedor_sensor</th>\n",
       "      <th>temperature_habitacion_sensor</th>\n",
       "      <th>weather_temperature</th>\n",
       "      <th>co2_comedor_sensor</th>\n",
       "      <th>co2_habitacion_sensor</th>\n",
       "      <th>humedad_comedor_sensor</th>\n",
       "      <th>humedad_habitacion_sensor</th>\n",
       "      <th>lighting_comedor_sensor</th>\n",
       "      <th>lighting_habitacion_sensor</th>\n",
       "      <th>precipitacion</th>\n",
       "      <th>meteo_exterior_crepusculo</th>\n",
       "      <th>meteo_exterior_viento</th>\n",
       "      <th>meteo_exterior_sol_oest</th>\n",
       "      <th>meteo_exterior_sol_est</th>\n",
       "      <th>meteo_exterior_sol_sud</th>\n",
       "      <th>meteo_exterior_piranometro</th>\n",
       "      <th>temperature_exterior_sensor</th>\n",
       "      <th>humedad_exterior_sensor</th>\n",
       "      <th>day_of_week</th>\n",
       "    </tr>\n",
       "    <tr>\n",
       "      <th>date</th>\n",
       "      <th></th>\n",
       "      <th></th>\n",
       "      <th></th>\n",
       "      <th></th>\n",
       "      <th></th>\n",
       "      <th></th>\n",
       "      <th></th>\n",
       "      <th></th>\n",
       "      <th></th>\n",
       "      <th></th>\n",
       "      <th></th>\n",
       "      <th></th>\n",
       "      <th></th>\n",
       "      <th></th>\n",
       "      <th></th>\n",
       "      <th></th>\n",
       "      <th></th>\n",
       "      <th></th>\n",
       "      <th></th>\n",
       "    </tr>\n",
       "  </thead>\n",
       "  <tbody>\n",
       "    <tr>\n",
       "      <th>2012-03-13</th>\n",
       "      <td>18.1875</td>\n",
       "      <td>17.8275</td>\n",
       "      <td>0.0</td>\n",
       "      <td>216.560</td>\n",
       "      <td>221.920</td>\n",
       "      <td>39.9125</td>\n",
       "      <td>42.4150</td>\n",
       "      <td>81.6650</td>\n",
       "      <td>113.520</td>\n",
       "      <td>0.0</td>\n",
       "      <td>623.360</td>\n",
       "      <td>1.42625</td>\n",
       "      <td>9690.24</td>\n",
       "      <td>12604.20</td>\n",
       "      <td>95436.8</td>\n",
       "      <td>758.880</td>\n",
       "      <td>18.1150</td>\n",
       "      <td>48.3750</td>\n",
       "      <td>2.0</td>\n",
       "    </tr>\n",
       "    <tr>\n",
       "      <th>2012-03-13</th>\n",
       "      <td>18.4633</td>\n",
       "      <td>18.1207</td>\n",
       "      <td>6.8</td>\n",
       "      <td>219.947</td>\n",
       "      <td>220.363</td>\n",
       "      <td>39.9267</td>\n",
       "      <td>42.2453</td>\n",
       "      <td>81.7413</td>\n",
       "      <td>113.605</td>\n",
       "      <td>0.0</td>\n",
       "      <td>623.211</td>\n",
       "      <td>1.59200</td>\n",
       "      <td>11022.00</td>\n",
       "      <td>10787.20</td>\n",
       "      <td>95436.8</td>\n",
       "      <td>762.069</td>\n",
       "      <td>18.4147</td>\n",
       "      <td>47.8080</td>\n",
       "      <td>2.0</td>\n",
       "    </tr>\n",
       "    <tr>\n",
       "      <th>2012-03-13</th>\n",
       "      <td>18.7673</td>\n",
       "      <td>18.4367</td>\n",
       "      <td>17.0</td>\n",
       "      <td>219.403</td>\n",
       "      <td>218.933</td>\n",
       "      <td>39.7720</td>\n",
       "      <td>42.2267</td>\n",
       "      <td>81.4240</td>\n",
       "      <td>113.600</td>\n",
       "      <td>0.0</td>\n",
       "      <td>622.656</td>\n",
       "      <td>1.89133</td>\n",
       "      <td>13960.50</td>\n",
       "      <td>9669.63</td>\n",
       "      <td>95398.6</td>\n",
       "      <td>766.251</td>\n",
       "      <td>18.8533</td>\n",
       "      <td>47.4320</td>\n",
       "      <td>2.0</td>\n",
       "    </tr>\n",
       "    <tr>\n",
       "      <th>2012-03-13</th>\n",
       "      <td>19.0727</td>\n",
       "      <td>18.7513</td>\n",
       "      <td>18.0</td>\n",
       "      <td>218.613</td>\n",
       "      <td>217.045</td>\n",
       "      <td>39.7760</td>\n",
       "      <td>42.0987</td>\n",
       "      <td>81.5013</td>\n",
       "      <td>113.344</td>\n",
       "      <td>0.0</td>\n",
       "      <td>622.571</td>\n",
       "      <td>1.82800</td>\n",
       "      <td>18511.20</td>\n",
       "      <td>9648.13</td>\n",
       "      <td>95360.3</td>\n",
       "      <td>766.037</td>\n",
       "      <td>19.2907</td>\n",
       "      <td>47.0240</td>\n",
       "      <td>2.0</td>\n",
       "    </tr>\n",
       "    <tr>\n",
       "      <th>2012-03-13</th>\n",
       "      <td>19.3721</td>\n",
       "      <td>19.0414</td>\n",
       "      <td>20.0</td>\n",
       "      <td>217.714</td>\n",
       "      <td>216.080</td>\n",
       "      <td>39.7757</td>\n",
       "      <td>42.0686</td>\n",
       "      <td>81.4657</td>\n",
       "      <td>113.034</td>\n",
       "      <td>0.0</td>\n",
       "      <td>622.400</td>\n",
       "      <td>2.36071</td>\n",
       "      <td>26349.00</td>\n",
       "      <td>9208.32</td>\n",
       "      <td>95354.9</td>\n",
       "      <td>762.743</td>\n",
       "      <td>19.7400</td>\n",
       "      <td>45.4743</td>\n",
       "      <td>2.0</td>\n",
       "    </tr>\n",
       "  </tbody>\n",
       "</table>\n",
       "</div>"
      ],
      "text/plain": [
       "            temperature_comedor_sensor  temperature_habitacion_sensor  \\\n",
       "date                                                                    \n",
       "2012-03-13                     18.1875                        17.8275   \n",
       "2012-03-13                     18.4633                        18.1207   \n",
       "2012-03-13                     18.7673                        18.4367   \n",
       "2012-03-13                     19.0727                        18.7513   \n",
       "2012-03-13                     19.3721                        19.0414   \n",
       "\n",
       "            weather_temperature  co2_comedor_sensor  co2_habitacion_sensor  \\\n",
       "date                                                                         \n",
       "2012-03-13                  0.0             216.560                221.920   \n",
       "2012-03-13                  6.8             219.947                220.363   \n",
       "2012-03-13                 17.0             219.403                218.933   \n",
       "2012-03-13                 18.0             218.613                217.045   \n",
       "2012-03-13                 20.0             217.714                216.080   \n",
       "\n",
       "            humedad_comedor_sensor  humedad_habitacion_sensor  \\\n",
       "date                                                            \n",
       "2012-03-13                 39.9125                    42.4150   \n",
       "2012-03-13                 39.9267                    42.2453   \n",
       "2012-03-13                 39.7720                    42.2267   \n",
       "2012-03-13                 39.7760                    42.0987   \n",
       "2012-03-13                 39.7757                    42.0686   \n",
       "\n",
       "            lighting_comedor_sensor  lighting_habitacion_sensor  \\\n",
       "date                                                              \n",
       "2012-03-13                  81.6650                     113.520   \n",
       "2012-03-13                  81.7413                     113.605   \n",
       "2012-03-13                  81.4240                     113.600   \n",
       "2012-03-13                  81.5013                     113.344   \n",
       "2012-03-13                  81.4657                     113.034   \n",
       "\n",
       "            precipitacion  meteo_exterior_crepusculo  meteo_exterior_viento  \\\n",
       "date                                                                          \n",
       "2012-03-13            0.0                    623.360                1.42625   \n",
       "2012-03-13            0.0                    623.211                1.59200   \n",
       "2012-03-13            0.0                    622.656                1.89133   \n",
       "2012-03-13            0.0                    622.571                1.82800   \n",
       "2012-03-13            0.0                    622.400                2.36071   \n",
       "\n",
       "            meteo_exterior_sol_oest  meteo_exterior_sol_est  \\\n",
       "date                                                          \n",
       "2012-03-13                  9690.24                12604.20   \n",
       "2012-03-13                 11022.00                10787.20   \n",
       "2012-03-13                 13960.50                 9669.63   \n",
       "2012-03-13                 18511.20                 9648.13   \n",
       "2012-03-13                 26349.00                 9208.32   \n",
       "\n",
       "            meteo_exterior_sol_sud  meteo_exterior_piranometro  \\\n",
       "date                                                             \n",
       "2012-03-13                 95436.8                     758.880   \n",
       "2012-03-13                 95436.8                     762.069   \n",
       "2012-03-13                 95398.6                     766.251   \n",
       "2012-03-13                 95360.3                     766.037   \n",
       "2012-03-13                 95354.9                     762.743   \n",
       "\n",
       "            temperature_exterior_sensor  humedad_exterior_sensor  day_of_week  \n",
       "date                                                                           \n",
       "2012-03-13                      18.1150                  48.3750          2.0  \n",
       "2012-03-13                      18.4147                  47.8080          2.0  \n",
       "2012-03-13                      18.8533                  47.4320          2.0  \n",
       "2012-03-13                      19.2907                  47.0240          2.0  \n",
       "2012-03-13                      19.7400                  45.4743          2.0  "
      ]
     },
     "execution_count": 6,
     "metadata": {},
     "output_type": "execute_result"
    }
   ],
   "source": [
    "data.head()"
   ]
  },
  {
   "cell_type": "code",
   "execution_count": 7,
   "metadata": {},
   "outputs": [],
   "source": [
    "#path = \"../logs/darnn/ntsa-2019-01-03-11-10-46\" # no kaf\n",
    "path = \"../logs/darnn/ntsa-2019-01-03-11-11-41\""
   ]
  },
  {
   "cell_type": "code",
   "execution_count": 8,
   "metadata": {},
   "outputs": [],
   "source": [
    "config = Logger.load(path=path)"
   ]
  },
  {
   "cell_type": "code",
   "execution_count": 9,
   "metadata": {},
   "outputs": [],
   "source": [
    "config = SimpleNamespace(**config)"
   ]
  },
  {
   "cell_type": "code",
   "execution_count": 10,
   "metadata": {},
   "outputs": [],
   "source": [
    "tr, ts, _ = build_train_test_datasets(data, config)"
   ]
  },
  {
   "cell_type": "code",
   "execution_count": 11,
   "metadata": {},
   "outputs": [],
   "source": [
    "model = DARNN(tr.shape, config=config, encoder_attn='input', decoder_attn='time')"
   ]
  },
  {
   "cell_type": "code",
   "execution_count": 12,
   "metadata": {},
   "outputs": [],
   "source": [
    "tf.reset_default_graph()"
   ]
  },
  {
   "cell_type": "code",
   "execution_count": 13,
   "metadata": {},
   "outputs": [
    {
     "name": "stdout",
     "output_type": "stream",
     "text": [
      "INFO:tensorflow:Built model with scope darnn\n"
     ]
    }
   ],
   "source": [
    "trainer = Trainer(model, path='lol')"
   ]
  },
  {
   "cell_type": "code",
   "execution_count": 14,
   "metadata": {},
   "outputs": [],
   "source": [
    "trainer.init_sess()"
   ]
  },
  {
   "cell_type": "code",
   "execution_count": 15,
   "metadata": {},
   "outputs": [
    {
     "name": "stdout",
     "output_type": "stream",
     "text": [
      "INFO:tensorflow:Restoring parameters from ../logs/darnn/ntsa-2019-01-03-11-11-41/model/-94606\n"
     ]
    }
   ],
   "source": [
    "trainer.restore(path)"
   ]
  },
  {
   "cell_type": "code",
   "execution_count": 16,
   "metadata": {},
   "outputs": [
    {
     "data": {
      "text/plain": [
       "[<tf.Variable 'darnn/encoder/alpha:0' shape=(1, 18, 20) dtype=float32_ref>,\n",
       " <tf.Variable 'darnn/encoder/memory/kernel:0' shape=(74, 1) dtype=float32_ref>,\n",
       " <tf.Variable 'darnn/encoder/gru_cell_1/gates/kernel:0' shape=(82, 128) dtype=float32_ref>,\n",
       " <tf.Variable 'darnn/encoder/gru_cell_1/gates/bias:0' shape=(128,) dtype=float32_ref>,\n",
       " <tf.Variable 'darnn/encoder/gru_cell_1/candidate/kernel:0' shape=(82, 64) dtype=float32_ref>,\n",
       " <tf.Variable 'darnn/encoder/gru_cell_1/candidate/bias:0' shape=(64,) dtype=float32_ref>,\n",
       " <tf.Variable 'darnn/decoder/fc_0/kernel:0' shape=(128, 64) dtype=float32_ref>,\n",
       " <tf.Variable 'darnn/decoder/fc_1/kernel:0' shape=(64, 1) dtype=float32_ref>,\n",
       " <tf.Variable 'darnn/decoder/query_layer/kernel:0' shape=(65, 1) dtype=float32_ref>,\n",
       " <tf.Variable 'darnn/decoder/gru_cell_1/gates/kernel:0' shape=(65, 128) dtype=float32_ref>,\n",
       " <tf.Variable 'darnn/decoder/gru_cell_1/gates/bias:0' shape=(128,) dtype=float32_ref>,\n",
       " <tf.Variable 'darnn/decoder/gru_cell_1/candidate/kernel:0' shape=(65, 64) dtype=float32_ref>,\n",
       " <tf.Variable 'darnn/decoder/gru_cell_1/candidate/bias:0' shape=(64,) dtype=float32_ref>,\n",
       " <tf.Variable 'darnn/decoder/fc/kernel:0' shape=(64, 1) dtype=float32_ref>,\n",
       " <tf.Variable 'darnn/decoder/fc/bias:0' shape=(1,) dtype=float32_ref>]"
      ]
     },
     "execution_count": 16,
     "metadata": {},
     "output_type": "execute_result"
    }
   ],
   "source": [
    "model.vars"
   ]
  },
  {
   "cell_type": "code",
   "execution_count": 17,
   "metadata": {},
   "outputs": [],
   "source": [
    "# get only encoder vars\n",
    "encoder = [v for v in model.vars if 'encoder' in v.name]"
   ]
  },
  {
   "cell_type": "code",
   "execution_count": 18,
   "metadata": {},
   "outputs": [],
   "source": [
    "alpha_kaf = trainer.sess.run(encoder[0])"
   ]
  },
  {
   "cell_type": "code",
   "execution_count": 19,
   "metadata": {},
   "outputs": [],
   "source": [
    "def kaf(x, alpha):\n",
    "    d = np.linspace(-1., 1., 20)\n",
    "    gamma = .5 / (2 * (d[-1] - d[0])**2)\n",
    "    x = np.expand_dims(x, axis=-1)\n",
    "    d = d.reshape((1,1,-1))\n",
    "    assert x.ndim == d.ndim\n",
    "    K = np.exp(-gamma * (x-d)**2)\n",
    "    return (alpha * K).sum(axis=-1)\n"
   ]
  },
  {
   "cell_type": "code",
   "execution_count": 20,
   "metadata": {},
   "outputs": [],
   "source": [
    "x = np.linspace(-5.,5., 18)"
   ]
  },
  {
   "cell_type": "code",
   "execution_count": 21,
   "metadata": {},
   "outputs": [],
   "source": [
    "act = kaf(x[None, :],alpha_kaf)"
   ]
  },
  {
   "cell_type": "code",
   "execution_count": 22,
   "metadata": {},
   "outputs": [
    {
     "data": {
      "text/plain": [
       "[<matplotlib.lines.Line2D at 0x128721208>]"
      ]
     },
     "execution_count": 22,
     "metadata": {},
     "output_type": "execute_result"
    },
    {
     "data": {
      "image/png": "[encoded data removed]",
      "text/plain": [
       "<Figure size 432x288 with 1 Axes>"
      ]
     },
     "metadata": {
      "needs_background": "light"
     },
     "output_type": "display_data"
    }
   ],
   "source": [
    "plt.plot(x.flatten(), act.flatten())"
   ]
  },
  {
   "cell_type": "code",
   "execution_count": 23,
   "metadata": {},
   "outputs": [
    {
     "data": {
      "text/plain": [
       "[<tf.Variable 'darnn/encoder/alpha:0' shape=(1, 18, 20) dtype=float32_ref>,\n",
       " <tf.Variable 'darnn/encoder/memory/kernel:0' shape=(74, 1) dtype=float32_ref>,\n",
       " <tf.Variable 'darnn/encoder/gru_cell_1/gates/kernel:0' shape=(82, 128) dtype=float32_ref>,\n",
       " <tf.Variable 'darnn/encoder/gru_cell_1/gates/bias:0' shape=(128,) dtype=float32_ref>,\n",
       " <tf.Variable 'darnn/encoder/gru_cell_1/candidate/kernel:0' shape=(82, 64) dtype=float32_ref>,\n",
       " <tf.Variable 'darnn/encoder/gru_cell_1/candidate/bias:0' shape=(64,) dtype=float32_ref>,\n",
       " <tf.Variable 'darnn/decoder/fc_0/kernel:0' shape=(128, 64) dtype=float32_ref>,\n",
       " <tf.Variable 'darnn/decoder/fc_1/kernel:0' shape=(64, 1) dtype=float32_ref>,\n",
       " <tf.Variable 'darnn/decoder/query_layer/kernel:0' shape=(65, 1) dtype=float32_ref>,\n",
       " <tf.Variable 'darnn/decoder/gru_cell_1/gates/kernel:0' shape=(65, 128) dtype=float32_ref>,\n",
       " <tf.Variable 'darnn/decoder/gru_cell_1/gates/bias:0' shape=(128,) dtype=float32_ref>,\n",
       " <tf.Variable 'darnn/decoder/gru_cell_1/candidate/kernel:0' shape=(65, 64) dtype=float32_ref>,\n",
       " <tf.Variable 'darnn/decoder/gru_cell_1/candidate/bias:0' shape=(64,) dtype=float32_ref>,\n",
       " <tf.Variable 'darnn/decoder/fc/kernel:0' shape=(64, 1) dtype=float32_ref>,\n",
       " <tf.Variable 'darnn/decoder/fc/bias:0' shape=(1,) dtype=float32_ref>]"
      ]
     },
     "execution_count": 23,
     "metadata": {},
     "output_type": "execute_result"
    }
   ],
   "source": [
    "tf.trainable_variables()"
   ]
  },
  {
   "cell_type": "code",
   "execution_count": 24,
   "metadata": {},
   "outputs": [],
   "source": [
    "attn  = InputAttention(output_shape=1, memory=model.x, use_kaf=True)"
   ]
  },
  {
   "cell_type": "code",
   "execution_count": 25,
   "metadata": {},
   "outputs": [],
   "source": [
    "### Ops restoring\n",
    "s = tf.zeros(shape=[128, 64], dtype=tf.float32)\n",
    "\n",
    "x_tilde, s_tilde, _ = attn.apply(model.x[:, 0,:] ,s, t=0)\n",
    "\n",
    "update_alpha= tf.assign(attn._k.alpha,encoder[0])\n",
    "update_memory = tf.assign(attn._memory_layer.trainable_variables[0],encoder[1])\n",
    "\n",
    "cell = tf.nn.rnn_cell.GRUCell(num_units=64, reuse=tf.AUTO_REUSE)\n",
    "y, s = cell(x_tilde, s_tilde)\n",
    "update_gru = tf.group(*[tf.assign(t,s) for t,s in zip(cell.trainable_variables, encoder[2:])])\n",
    "\n",
    "_ = trainer.sess.run([update_gru, \n",
    "                      update_memory,\n",
    "                      update_alpha\n",
    "                 ])"
   ]
  },
  {
   "cell_type": "code",
   "execution_count": 26,
   "metadata": {},
   "outputs": [],
   "source": [
    "batch = tr.next()"
   ]
  },
  {
   "cell_type": "code",
   "execution_count": 27,
   "metadata": {},
   "outputs": [],
   "source": [
    "x = batch[0]['x']"
   ]
  },
  {
   "cell_type": "code",
   "execution_count": 28,
   "metadata": {},
   "outputs": [],
   "source": [
    "xs = []\n",
    "alphas = []\n",
    "for t in range(x.shape[1]):\n",
    "    x_tilde, s_tilde, w = attn.apply(model.x[:, t, :], s,t=t)\n",
    "    alphas.append(w)\n",
    "    _, s = cell(x_tilde, s_tilde)\n",
    "    xs.append((x_tilde, model.x[:, t, :]))"
   ]
  },
  {
   "cell_type": "code",
   "execution_count": 29,
   "metadata": {},
   "outputs": [],
   "source": [
    "alphas,out = trainer.sess.run([alphas,xs], feed_dict={model.x:x})"
   ]
  },
  {
   "cell_type": "code",
   "execution_count": 30,
   "metadata": {},
   "outputs": [],
   "source": [
    "x_tilde, x = np.split(np.array(out),2, axis=1)\n",
    "x_tilde = np.squeeze(x_tilde, axis=1).swapaxes(1,0).reshape((-1, x_tilde.shape[-1]))\n",
    "x = np.squeeze(x, axis=1).swapaxes(1,0).reshape((-1, x.shape[-1]))"
   ]
  },
  {
   "cell_type": "code",
   "execution_count": 31,
   "metadata": {},
   "outputs": [],
   "source": [
    "alphas = np.array(alphas)\n",
    "alphas = alphas.swapaxes(1,0).reshape((-1, alphas.shape[-1]))"
   ]
  },
  {
   "cell_type": "code",
   "execution_count": 32,
   "metadata": {},
   "outputs": [
    {
     "data": {
      "image/png": "[encoded data removed]",
      "text/plain": [
       "<Figure size 1440x1440 with 18 Axes>"
      ]
     },
     "metadata": {
      "needs_background": "light"
     },
     "output_type": "display_data"
    }
   ],
   "source": [
    "# x_axis time\n",
    "# y_axis value\n",
    "fig, ax = plt.subplots(6,3, figsize=(20,20), sharex=True, sharey=True)\n",
    "\n",
    "for idx,a in zip(range(alphas.shape[-1]), ax.flatten()):\n",
    "    a.plot(alphas[:, idx])\n",
    "    a.set_title(features[idx])\n"
   ]
  },
  {
   "cell_type": "markdown",
   "metadata": {},
   "source": [
    "#### OLD STUFF TO DELETE"
   ]
  },
  {
   "cell_type": "markdown",
   "metadata": {},
   "source": [
    "## Input attention\n",
    "\n",
    "As in [DARNN](https://arxiv.org/pdf/1704.02971.pdf) the input attention is designed to focus on early stage stimulus in the inpt process. Given a cell hidden state $h_{t-1}$ and the series features $x_{t-1}$, attention is computed as:\n",
    "\n",
    "$$e_t^k = W(h_{t-1} + x^k) + b$$\n",
    "\n",
    "Notice that this attention mechanism is built considering the whole batch.\n",
    "\n",
    "$$\\alpha_t^k = softmax(e_t^k)$$\n",
    "\n",
    "The candidate output, $\\widetilde{x}$ it's given by:\n",
    "\n",
    "$$\\widetilde{x_t} = \\alpha_t \\odot x_t $$"
   ]
  },
  {
   "cell_type": "code",
   "execution_count": null,
   "metadata": {},
   "outputs": [],
   "source": [
    "path=\"../tf/rnn/woc-2018-09-26-10-34-04\""
   ]
  },
  {
   "cell_type": "code",
   "execution_count": null,
   "metadata": {},
   "outputs": [],
   "source": [
    "config = Logger.get_config(path)"
   ]
  },
  {
   "cell_type": "code",
   "execution_count": null,
   "metadata": {},
   "outputs": [],
   "source": [
    "df = pd.read_pickle('../data/sml.pkl')"
   ]
  },
  {
   "cell_type": "code",
   "execution_count": null,
   "metadata": {},
   "outputs": [],
   "source": [
    "features = df.columns.tolist()\n",
    "features"
   ]
  },
  {
   "cell_type": "code",
   "execution_count": null,
   "metadata": {},
   "outputs": [],
   "source": [
    "x, index, stats = make_features(df, \n",
    "                                seq_len=config.seq_len, \n",
    "                                preprocess=config.preprocess,\n",
    "                                lags=config.lags, \n",
    "                                use_x=config.use_x,\n",
    "                               )"
   ]
  },
  {
   "cell_type": "code",
   "execution_count": null,
   "metadata": {},
   "outputs": [],
   "source": [
    "dataset = Dataset(x, index,stats, seq_len=config.seq_len, pred_len=config.pred_len,random_start=False)"
   ]
  },
  {
   "cell_type": "code",
   "execution_count": null,
   "metadata": {},
   "outputs": [],
   "source": [
    "it = dataset.__iter__()"
   ]
  },
  {
   "cell_type": "code",
   "execution_count": null,
   "metadata": {},
   "outputs": [],
   "source": [
    "feeds, dates = next(it)\n",
    "dataset._idx"
   ]
  },
  {
   "cell_type": "code",
   "execution_count": null,
   "metadata": {},
   "outputs": [],
   "source": [
    "tf.reset_default_graph()"
   ]
  },
  {
   "cell_type": "code",
   "execution_count": null,
   "metadata": {},
   "outputs": [],
   "source": [
    "model = RNN(dataset.shape, config=config)"
   ]
  },
  {
   "cell_type": "code",
   "execution_count": null,
   "metadata": {
    "scrolled": true
   },
   "outputs": [],
   "source": [
    "trainer = Trainer(model, config=config, path=path)"
   ]
  },
  {
   "cell_type": "code",
   "execution_count": null,
   "metadata": {},
   "outputs": [],
   "source": [
    "trainer.init_sess()"
   ]
  },
  {
   "cell_type": "code",
   "execution_count": null,
   "metadata": {},
   "outputs": [],
   "source": [
    "trainer.restore(path=path)"
   ]
  },
  {
   "cell_type": "code",
   "execution_count": null,
   "metadata": {},
   "outputs": [],
   "source": [
    "sess =trainer.sess"
   ]
  },
  {
   "cell_type": "code",
   "execution_count": null,
   "metadata": {},
   "outputs": [],
   "source": [
    "sess.run(tf.global_variables_initializer())"
   ]
  },
  {
   "cell_type": "code",
   "execution_count": null,
   "metadata": {},
   "outputs": [],
   "source": [
    "tf.trainable_variables()"
   ]
  },
  {
   "cell_type": "code",
   "execution_count": null,
   "metadata": {},
   "outputs": [],
   "source": [
    "h = model.x"
   ]
  },
  {
   "cell_type": "code",
   "execution_count": null,
   "metadata": {},
   "outputs": [],
   "source": [
    "attn = InputAttention(output_shape=1, memory=h, name='rnn/encoder/input_attention', use_bias=True)"
   ]
  },
  {
   "cell_type": "code",
   "execution_count": null,
   "metadata": {},
   "outputs": [],
   "source": [
    "state = tf.zeros(shape=(8, config.encoder), dtype=tf.float32)"
   ]
  },
  {
   "cell_type": "code",
   "execution_count": null,
   "metadata": {},
   "outputs": [],
   "source": [
    "t = 0 "
   ]
  },
  {
   "cell_type": "code",
   "execution_count": null,
   "metadata": {},
   "outputs": [],
   "source": [
    "tf.trainable_variables()"
   ]
  },
  {
   "cell_type": "code",
   "execution_count": null,
   "metadata": {},
   "outputs": [],
   "source": [
    "alpha = sess.run(tf.trainable_variables()[0])"
   ]
  },
  {
   "cell_type": "code",
   "execution_count": null,
   "metadata": {},
   "outputs": [],
   "source": [
    "alpha = np.squeeze(alpha)"
   ]
  },
  {
   "cell_type": "code",
   "execution_count": null,
   "metadata": {},
   "outputs": [],
   "source": [
    "alpha[:,0]"
   ]
  },
  {
   "cell_type": "code",
   "execution_count": null,
   "metadata": {},
   "outputs": [],
   "source": [
    "fig, ax = plt.subplots(6,3, figsize=(20,20), sharex=True, sharey=True)\n",
    "for k,a in zip(range(18), ax.flatten()):\n",
    "    a.plot(np.linspace(-2, 2,20),alpha[:, k])\n",
    "    a.set_title(features[k])"
   ]
  },
  {
   "cell_type": "code",
   "execution_count": null,
   "metadata": {},
   "outputs": [],
   "source": [
    "x_tilde = attn.apply(h[:, t,:], state)"
   ]
  },
  {
   "cell_type": "code",
   "execution_count": null,
   "metadata": {},
   "outputs": [],
   "source": [
    "feed_dict = trainer._get_dict(feeds)"
   ]
  },
  {
   "cell_type": "markdown",
   "metadata": {},
   "source": [
    "### First timestep, first batch of random day"
   ]
  },
  {
   "cell_type": "code",
   "execution_count": null,
   "metadata": {},
   "outputs": [],
   "source": [
    "features.pop(0)"
   ]
  },
  {
   "cell_type": "code",
   "execution_count": null,
   "metadata": {},
   "outputs": [],
   "source": [
    "attn._act.alpha = tf.trainable_variables()[0]"
   ]
  },
  {
   "cell_type": "code",
   "execution_count": null,
   "metadata": {},
   "outputs": [],
   "source": [
    "x_tilde = trainer.sess.run(x_tilde, feed_dict)"
   ]
  },
  {
   "cell_type": "code",
   "execution_count": null,
   "metadata": {},
   "outputs": [],
   "source": [
    "x_tilde = x_tilde.mean(axis=0).reshape((1,-1))"
   ]
  },
  {
   "cell_type": "code",
   "execution_count": null,
   "metadata": {},
   "outputs": [],
   "source": [
    "# features importance for each a single sequence at time 0\n",
    "df = pd.DataFrame(x_tilde, columns=features)"
   ]
  },
  {
   "cell_type": "code",
   "execution_count": null,
   "metadata": {},
   "outputs": [],
   "source": [
    "mif = df[df>0].fillna(0)\n",
    "mif.mean(axis=0).sort_values(ascending=False)"
   ]
  },
  {
   "cell_type": "code",
   "execution_count": null,
   "metadata": {},
   "outputs": [],
   "source": [
    "lif = df[df<0.0].fillna(0)\n",
    "lif.mean(axis=0).sort_values(ascending=True)"
   ]
  },
  {
   "cell_type": "markdown",
   "metadata": {},
   "source": [
    "### Single batch over time steps"
   ]
  },
  {
   "cell_type": "code",
   "execution_count": null,
   "metadata": {},
   "outputs": [],
   "source": [
    "cell = tf.contrib.rnn.GRUBlockCellV2(num_units=config.encoder, reuse=tf.AUTO_REUSE, name='rnn/encoder/gru_cell')"
   ]
  },
  {
   "cell_type": "code",
   "execution_count": null,
   "metadata": {},
   "outputs": [],
   "source": [
    "from utils.tf_utils import kaf"
   ]
  },
  {
   "cell_type": "code",
   "execution_count": null,
   "metadata": {},
   "outputs": [],
   "source": [
    "states = []\n",
    "c_xs = []\n",
    "state = tf.zeros(shape=(8, config.encoder), dtype=tf.float32)\n",
    "weights = []\n",
    "for t in range(config.seq_len):\n",
    "    c_x = attn.apply(h[:, t, :], state)\n",
    "    w = c_x/h[:,t,:]\n",
    "    weights.append(w)\n",
    "    _, state = cell(c_x, state)\n",
    "    states.append(state)\n",
    "    c_xs.append(c_x)"
   ]
  },
  {
   "cell_type": "code",
   "execution_count": null,
   "metadata": {},
   "outputs": [],
   "source": [
    "c_xs = trainer.sess.run(c_xs, feed_dict)"
   ]
  },
  {
   "cell_type": "code",
   "execution_count": null,
   "metadata": {},
   "outputs": [],
   "source": [
    "D =  np.linspace(-1.,1., 20).reshape((-1,1))\n",
    "gamma = .5 / np.square(2* (D[-1] - D[0]))\n",
    "K = np.exp(-gamma * (D - D.T)**2)\n",
    "init_alpha = np.linalg.solve(K + 1e-1*np.eye(20), D)"
   ]
  },
  {
   "cell_type": "code",
   "execution_count": null,
   "metadata": {},
   "outputs": [],
   "source": [
    "init_alpha = np.tile(init_alpha.reshape(-1,20), (alpha.shape[0],1))"
   ]
  },
  {
   "cell_type": "code",
   "execution_count": null,
   "metadata": {},
   "outputs": [],
   "source": [
    "def kaf_np(x, d, gamma):\n",
    "    kaf = np.exp(-gamma * np.square(x - d))\n",
    "    return kaf"
   ]
  },
  {
   "cell_type": "code",
   "execution_count": null,
   "metadata": {},
   "outputs": [],
   "source": [
    "plt.plot(np.arange(-5,5,1), kaf_np(np.arange(-5,5, 1).reshape(1,10, 1), D.reshape((1,1, -1)), gamma).sum(axis=-1).flatten())"
   ]
  },
  {
   "cell_type": "code",
   "execution_count": null,
   "metadata": {},
   "outputs": [],
   "source": [
    "fig, ax = plt.subplots(6,3, figsize=(20,20), sharex=True, sharey=True)\n",
    "# red init values and green trained values\n",
    "k = kaf_np(np.arange(-5,5,1).reshape(1,10,1), D.reshape(1,1,-1), gamma)\n",
    "for idx,a in zip(range(alpha.shape[0]), ax.flatten()):\n",
    "    out_0 = (k * init_alpha[np.newaxis, idx, :]).sum(axis=-1).flatten()\n",
    "    out = (k * alpha[np.newaxis,idx,:]).sum(axis=-1).flatten()\n",
    "    a.plot(np.arange(-5,5,1),out_0, 'r')\n",
    "    a.plot(np.arange(-5,5,1),out, '-g')\n",
    "    a.set_xlim(left=-5, right=5)\n",
    "    a.set_title(features[idx])"
   ]
  },
  {
   "cell_type": "code",
   "execution_count": null,
   "metadata": {},
   "outputs": [],
   "source": [
    "fig.savefig('alpha_kaf.png')"
   ]
  },
  {
   "cell_type": "code",
   "execution_count": null,
   "metadata": {},
   "outputs": [],
   "source": [
    "ws = sess.run(weights,feed_dict)"
   ]
  },
  {
   "cell_type": "code",
   "execution_count": null,
   "metadata": {},
   "outputs": [],
   "source": [
    "ws = np.array(ws)"
   ]
  },
  {
   "cell_type": "code",
   "execution_count": null,
   "metadata": {},
   "outputs": [],
   "source": [
    "c_xs=np.array(c_xs)"
   ]
  },
  {
   "cell_type": "code",
   "execution_count": null,
   "metadata": {},
   "outputs": [],
   "source": [
    "avg_ws = ws.mean(axis=1)"
   ]
  },
  {
   "cell_type": "code",
   "execution_count": null,
   "metadata": {},
   "outputs": [],
   "source": [
    "import seaborn as sns"
   ]
  },
  {
   "cell_type": "code",
   "execution_count": null,
   "metadata": {},
   "outputs": [],
   "source": [
    "plt.plot(avg_ws.cumsum(axis=1).T)\n",
    "plt.title('Cumulative dist of activation')"
   ]
  },
  {
   "cell_type": "code",
   "execution_count": null,
   "metadata": {},
   "outputs": [],
   "source": [
    "avg_ws[0,:]"
   ]
  },
  {
   "cell_type": "code",
   "execution_count": null,
   "metadata": {},
   "outputs": [],
   "source": []
  },
  {
   "cell_type": "code",
   "execution_count": null,
   "metadata": {},
   "outputs": [],
   "source": [
    "sns.distplot(avg_ws[0,:].flatten())a"
   ]
  },
  {
   "cell_type": "code",
   "execution_count": null,
   "metadata": {},
   "outputs": [],
   "source": [
    "fig, ax = plt.subplots(4,3, figsize=(20,20), sharex=True, sharey=True)\n",
    "\n",
    "for t,a in zip(range(avg_ws.shape[0]), ax.flatten()):\n",
    "    a.plot(np.linspace(0,1,18),avg_ws[t, :])\n",
    "    #a.plot(avg_ws[t,:].cumsum())\n",
    "    #a.hist(avg_ws_no_kaf[t,: ], density=True)\n",
    "    a.set_title(str(t))"
   ]
  },
  {
   "cell_type": "code",
   "execution_count": null,
   "metadata": {},
   "outputs": [],
   "source": [
    "fig.savefig('ws_per_time.png')"
   ]
  },
  {
   "cell_type": "code",
   "execution_count": null,
   "metadata": {},
   "outputs": [],
   "source": [
    "fig, ax = plt.subplots(6,3, figsize=(20,20), sharex=True, sharey=True)\n",
    "\n",
    "for idx,a in zip(range(avg_ws.shape[-1]), ax.flatten()):\n",
    "    a.plot(avg_ws[:, idx])\n",
    "    a.plot(avg_ws_no_kaf[:, idx])\n",
    "    a.set_title(features[idx])\n"
   ]
  },
  {
   "cell_type": "code",
   "execution_count": null,
   "metadata": {},
   "outputs": [],
   "source": [
    "fig.savefig('avg_ws.png')"
   ]
  },
  {
   "cell_type": "code",
   "execution_count": null,
   "metadata": {},
   "outputs": [],
   "source": [
    "avg_c = c_xs.mean(axis=1)"
   ]
  },
  {
   "cell_type": "code",
   "execution_count": null,
   "metadata": {},
   "outputs": [],
   "source": [
    "avg_c = (avg_c - avg_c.mean(axis=0))/ (avg_c.std(axis=0) + 1e-5)"
   ]
  },
  {
   "cell_type": "code",
   "execution_count": null,
   "metadata": {},
   "outputs": [],
   "source": [
    "x_true = feed_dict[model.x]"
   ]
  },
  {
   "cell_type": "code",
   "execution_count": null,
   "metadata": {},
   "outputs": [],
   "source": [
    "avg_c_true = x_true.mean(axis=0)"
   ]
  },
  {
   "cell_type": "code",
   "execution_count": null,
   "metadata": {},
   "outputs": [],
   "source": [
    "fig, ax = plt.subplots(6,3, figsize=(20,20), sharex=True, sharey=True)\n",
    "\n",
    "for idx,a in zip(range(avg_c.shape[-1]), ax.flatten()):\n",
    "    a.plot(avg_c[:, idx])\n",
    "    a.plot(avg_c_true[:, idx])\n",
    "    a.set_title(features[idx])\n"
   ]
  },
  {
   "cell_type": "code",
   "execution_count": null,
   "metadata": {},
   "outputs": [],
   "source": [
    "fig.savefig('input_attn_avg_batch_kaf.png')"
   ]
  },
  {
   "cell_type": "code",
   "execution_count": null,
   "metadata": {},
   "outputs": [],
   "source": [
    "avg_b = c_xs.mean(axis=0)"
   ]
  },
  {
   "cell_type": "code",
   "execution_count": null,
   "metadata": {},
   "outputs": [],
   "source": [
    "fig, ax = plt.subplots(6,3, figsize=(20,20), sharex=True, sharey=True)\n",
    "\n",
    "for idx,a in zip(range(avg_b.shape[-1]), ax.flatten()):\n",
    "    a.plot(avg_b[:, idx])\n",
    "    a.set_title(features[idx])\n"
   ]
  },
  {
   "cell_type": "code",
   "execution_count": null,
   "metadata": {},
   "outputs": [],
   "source": [
    "fig.savefig('input_attn_avg_time')"
   ]
  },
  {
   "cell_type": "code",
   "execution_count": null,
   "metadata": {},
   "outputs": [],
   "source": [
    "full_series = c_xs.reshape((-1,len(features)))"
   ]
  },
  {
   "cell_type": "code",
   "execution_count": null,
   "metadata": {},
   "outputs": [],
   "source": [
    "t = (full_series - full_series.mean(axis=0)) / full_series.std(axis=0)"
   ]
  },
  {
   "cell_type": "code",
   "execution_count": null,
   "metadata": {},
   "outputs": [],
   "source": [
    "full_series_true = x_true.reshape((-1,len(features)))"
   ]
  },
  {
   "cell_type": "code",
   "execution_count": null,
   "metadata": {},
   "outputs": [],
   "source": [
    "fig, ax = plt.subplots(6,3, figsize=(20,20), sharex=True, sharey=True)\n",
    "\n",
    "for idx,a in zip(range(full_series.shape[-1]), ax.flatten()):\n",
    "    a.plot(t[:, idx])\n",
    "    a.plot(full_series_true[:, idx])\n",
    "    a.set_title(features[idx])"
   ]
  },
  {
   "cell_type": "code",
   "execution_count": null,
   "metadata": {},
   "outputs": [],
   "source": [
    "fig.savefig('input_attn_full.png')"
   ]
  },
  {
   "cell_type": "code",
   "execution_count": null,
   "metadata": {},
   "outputs": [],
   "source": [
    "df_= pd.read_csv('../tf/rnn/woc-2018-09-25-20-16-52/report_train.csv', index_col=0)"
   ]
  },
  {
   "cell_type": "code",
   "execution_count": null,
   "metadata": {},
   "outputs": [],
   "source": [
    "df  = pd.read_csv(path + '/report_train.csv', index_col=0)"
   ]
  },
  {
   "cell_type": "code",
   "execution_count": null,
   "metadata": {},
   "outputs": [],
   "source": [
    "df  = pd.read_csv(path + '/report_train.csv', index_col=0)"
   ]
  },
  {
   "cell_type": "code",
   "execution_count": null,
   "metadata": {},
   "outputs": [],
   "source": [
    "df.smape.plot()\n",
    "df_.smape.plot()\n",
    "plt.legend(['kaf', 'no_kaf'])\n",
    "plt.savefig('loss.png')"
   ]
  },
  {
   "cell_type": "code",
   "execution_count": null,
   "metadata": {},
   "outputs": [],
   "source": []
  },
  {
   "cell_type": "code",
   "execution_count": null,
   "metadata": {},
   "outputs": [],
   "source": [
    "path"
   ]
  },
  {
   "cell_type": "code",
   "execution_count": null,
   "metadata": {},
   "outputs": [],
   "source": []
  }
 ],
 "metadata": {
  "kernelspec": {
   "display_name": "Python 3",
   "language": "python",
   "name": "python3"
  },
  "language_info": {
   "codemirror_mode": {
    "name": "ipython",
    "version": 3
   },
   "file_extension": ".py",
   "mimetype": "text/x-python",
   "name": "python",
   "nbconvert_exporter": "python",
   "pygments_lexer": "ipython3",
   "version": "3.6.4"
  }
 },
 "nbformat": 4,
 "nbformat_minor": 2
}
